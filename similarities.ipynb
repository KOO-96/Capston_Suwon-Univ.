{
  "nbformat": 4,
  "nbformat_minor": 0,
  "metadata": {
    "colab": {
      "provenance": [],
      "authorship_tag": "ABX9TyNa/wc0rTRysJWIOkbFNekc",
      "include_colab_link": true
    },
    "kernelspec": {
      "name": "python3",
      "display_name": "Python 3"
    },
    "language_info": {
      "name": "python"
    }
  },
  "cells": [
    {
      "cell_type": "markdown",
      "metadata": {
        "id": "view-in-github",
        "colab_type": "text"
      },
      "source": [
        "<a href=\"https://colab.research.google.com/github/KOO-96/Capston_Suwon-univ.-1/blob/main/similarities.ipynb\" target=\"_parent\"><img src=\"https://colab.research.google.com/assets/colab-badge.svg\" alt=\"Open In Colab\"/></a>"
      ]
    },
    {
      "cell_type": "code",
      "execution_count": 19,
      "metadata": {
        "colab": {
          "base_uri": "https://localhost:8080/",
          "height": 277
        },
        "id": "vMYHTv0NAQL4",
        "outputId": "1737360b-f556-4329-c2f0-fd2c3fc34d27"
      },
      "outputs": [
        {
          "name": "stdout",
          "output_type": "stream",
          "text": [
            "59999\n"
          ]
        },
        {
          "output_type": "display_data",
          "data": {
            "text/plain": [
              "<Figure size 1500x300 with 5 Axes>"
            ],
            "image/png": "[encoded data removed]"
          },
          "metadata": {}
        }
      ],
      "source": [
        "import numpy as np\n",
        "from sklearn.metrics.pairwise import cosine_similarity\n",
        "from tensorflow.keras.datasets import fashion_mnist\n",
        "import matplotlib.pyplot as plt\n",
        "\n",
        "# 데이터 로드\n",
        "(x_train, y_train), (x_test, y_test) = fashion_mnist.load_data()\n",
        "\n",
        "# 원-핫 인코딩\n",
        "num_classes = 10\n",
        "y_train_sparse = np.zeros((y_train.size, num_classes))\n",
        "y_train_sparse[np.arange(y_train.size), y_train] = 1\n",
        "\n",
        "# 선택 이미지 라벨\n",
        "user_selected_label = int(input())\n",
        "\n",
        "# 직접 지정한 라벨값과 가장 유사한 이미지 불러오기\n",
        "cosine_similarities = cosine_similarity(y_train_sparse, y_train_sparse[user_selected_label].reshape(1, -1))\n",
        "most_similar_indices = np.argsort(cosine_similarities[:, 0])[::-1][:5]\n",
        "\n",
        "# 유사한 이미지 출력\n",
        "plt.figure(figsize=(15, 3))\n",
        "for i, index in enumerate(most_similar_indices):\n",
        "    plt.subplot(1, 5, i + 1)\n",
        "    plt.imshow(x_train[index], cmap='gray')\n",
        "    plt.title(f\"Similarity: {cosine_similarities[index, 0]:.2f}\")\n",
        "    plt.axis('off')\n",
        "plt.show()"
      ]
    }
  ]
}